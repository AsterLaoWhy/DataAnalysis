{
 "cells": [
  {
   "cell_type": "code",
   "execution_count": null,
   "metadata": {},
   "outputs": [],
   "source": [
    "#My imports\n",
    "import pandas as pd\n",
    "import numpy as np\n",
    "import matplotlib.pyplot as plt\n",
    "import scipy.stats as stats\n",
    "import seaborn as sns\n",
    "%matplotlib inline"
   ]
  },
  {
   "cell_type": "code",
   "execution_count": null,
   "metadata": {},
   "outputs": [],
   "source": [
    "#Data I will be using\n",
    "Math08 = pd.read_excel('Downloads\\Grade 8 Math.Xls')\n",
    "Math04 = pd.read_excel('Downloads\\Grade 4 Math.Xls')\n",
    "porn_state = pd.read_excel('Desktop\\Porn.Xls')\n",
    "Pop10 = pd.read_excel('Downloads\\population10.xls')\n",
    "Pop20 = pd.read_excel('Downloads\\population20.xlsx')\n"
   ]
  },
  {
   "cell_type": "code",
   "execution_count": null,
   "metadata": {},
   "outputs": [],
   "source": [
    "#Formatting my stuff the same for merging into one massive DataFrame\n",
    "#joining population\n",
    "Pop10Fix = Pop10.melt(id_vars = ['Geographic Area'], \n",
    "                      value_vars = [2009, 2007], var_name = 'Year', value_name = 'Population')\n",
    "Pop20Fix = Pop20.melt(id_vars = ['Geographic Area'], \n",
    "                      value_vars = [2011, 2013, 2015, 2017, 2019], \n",
    "                      var_name = 'Year', value_name = 'Population')\n",
    "#Join and pretty it up\n",
    "Testing = Pop10Fix.append(Pop20Fix)\n",
    "\n",
    "test = Testing.rename(columns = {'Geographic Area':'State'})\n",
    "population = test.sort_values(by = ['Year', 'State'], ascending = [False, True])\n",
    "population = population[~population['State'].isin(['Midwest','Northeast','South','West', 'District of Columbia'])]\n",
    "population.info()\n",
    "\n"
   ]
  },
  {
   "cell_type": "code",
   "execution_count": null,
   "metadata": {
    "scrolled": false
   },
   "outputs": [],
   "source": [
    "#Joining Math scores and prettying them up\n",
    "\n",
    "math = pd.concat([Math08, Math04], axis = 1, sort = False)\n",
    "math = math_test.dropna()\n",
    "math = math[~math['State'].isin(['District of Columbia', 'DoDEA','Puerto Rico' \n",
    "                                                        , 'Northeast (Census)', 'Midwest (Census)',\n",
    "                                                           'South (Census)', 'West (Census)'])]\n",
    "\n",
    "\n",
    "math.info()"
   ]
  },
  {
   "cell_type": "code",
   "execution_count": null,
   "metadata": {},
   "outputs": [],
   "source": [
    "#Merge test and year\n",
    "#wouldn't let me merge without resetting the index\n",
    "#math_test = math.reset_index()\n",
    "population_test = population.reset_index()\n",
    "Merged = pd.merge(\n",
    "    math, population_test,\n",
    "    on = ['Year', 'State'])\n",
    "Merged = Merged.drop(columns = ['level_0', 'index_y', 'index_x'], axis = 1)\n",
    "Merged.head()"
   ]
  },
  {
   "cell_type": "code",
   "execution_count": null,
   "metadata": {},
   "outputs": [],
   "source": [
    "#Merge porn and previous data \n",
    "#Delete State names since idc what the name is\n",
    "df = Merged.join(porn_state, lsuffix = 'State', rsuffix = 'State')\n",
    "df.columns = ['Year', 'State', 'Grade 8', 'Grade 4', 'Population', 'Delete', 'Delete', 'Genre']\n",
    "df = df.drop(columns = 'Delete' , axis = 1)\n",
    "df.head()\n"
   ]
  },
  {
   "cell_type": "code",
   "execution_count": null,
   "metadata": {},
   "outputs": [],
   "source": [
    "#National Should be alone \n",
    "National = df[believe['State'].isin(['National'])]\n",
    "National8 = National.drop(columns = ['Grade 4', 'Genre'], axis = 1).sort_values(by = 'Year', ascending=False)\n",
    "National4 = National.drop(columns = ['Grade 8', 'Genre'], axis = 1).sort_values(by = 'Year', ascending=False)\n",
    "National8.head(6)"
   ]
  },
  {
   "cell_type": "code",
   "execution_count": null,
   "metadata": {},
   "outputs": [],
   "source": [
    "#Time to drop the national so I can group them and start analyzing against the national\n",
    "Tested = df[~df['State'].isin(['National'])]\n",
    "Tested = Tested.drop(columns = 'State', axis = 1)\n",
    "Tested"
   ]
  },
  {
   "cell_type": "code",
   "execution_count": null,
   "metadata": {},
   "outputs": [],
   "source": [
    "#Genres of Porn\n",
    "Normal = Tested[Tested['Genre']=='Normal'].copy()\n",
    "Racial = Tested[Tested['Genre']=='Racial'].copy()\n",
    "Hentai = Tested[Tested['Genre']=='Hentai'].copy()\n",
    "Teen = Tested[Tested['Genre']=='Teen'].copy()\n",
    "Milf = Tested[Tested['Genre']=='Milf'].copy()\n",
    "Normal.info()"
   ]
  },
  {
   "cell_type": "code",
   "execution_count": null,
   "metadata": {},
   "outputs": [],
   "source": [
    "Normal\n",
    "\n",
    "Normal['Weighted8'] = (Normal['Population']* Normal['Grade 8'])\n",
    "Normal['Weighted4'] = (Normal['Population']*Normal['Grade 4'])\n",
    "\n",
    "\n",
    "Racial\n",
    "Racial['Weighted8'] = (Racial['Population']*Racial['Grade 8'])\n",
    "Racial['Weighted4'] = (Racial['Population']*Racial['Grade 4'])\n",
    "\n",
    "\n",
    "Hentai\n",
    "Hentai['Weighted8'] = (Hentai['Population']*Hentai['Grade 8'])\n",
    "Hentai['Weighted4'] = (Hentai['Population']*Hentai['Grade 4'])\n",
    "\n",
    "Teen\n",
    "Teen['Weighted8'] = (Teen['Population']*Teen['Grade 8'])\n",
    "Teen['Weighted4'] = (Teen['Population']*Teen['Grade 4'])\n",
    "\n",
    "Milf\n",
    "Milf['Weighted8'] = (Milf['Population']*Milf['Grade 8'])\n",
    "Milf['Weighted4'] = (Milf['Population']*Milf['Grade 4'])\n",
    "\n",
    "\n"
   ]
  },
  {
   "cell_type": "code",
   "execution_count": null,
   "metadata": {},
   "outputs": [],
   "source": [
    "\n"
   ]
  },
  {
   "cell_type": "code",
   "execution_count": null,
   "metadata": {},
   "outputs": [],
   "source": [
    "'''HAVE A BREAK IN BETWEEN THESE ERRORS'''"
   ]
  },
  {
   "cell_type": "code",
   "execution_count": null,
   "metadata": {},
   "outputs": [],
   "source": []
  },
  {
   "cell_type": "code",
   "execution_count": null,
   "metadata": {},
   "outputs": [],
   "source": []
  },
  {
   "cell_type": "code",
   "execution_count": null,
   "metadata": {},
   "outputs": [],
   "source": []
  },
  {
   "cell_type": "code",
   "execution_count": null,
   "metadata": {},
   "outputs": [],
   "source": []
  },
  {
   "cell_type": "markdown",
   "metadata": {},
   "source": [
    "## Now that the data is pulled in, it's time for some Paired T-Tests ##\n"
   ]
  },
  {
   "cell_type": "code",
   "execution_count": 5,
   "metadata": {},
   "outputs": [
    {
     "ename": "NameError",
     "evalue": "name 'Normal' is not defined",
     "output_type": "error",
     "traceback": [
      "\u001b[1;31m---------------------------------------------------------------------------\u001b[0m",
      "\u001b[1;31mNameError\u001b[0m                                 Traceback (most recent call last)",
      "\u001b[1;32m<ipython-input-5-1555ffa2ebb1>\u001b[0m in \u001b[0;36m<module>\u001b[1;34m\u001b[0m\n\u001b[0;32m      1\u001b[0m \u001b[1;31m#Normal\u001b[0m\u001b[1;33m\u001b[0m\u001b[1;33m\u001b[0m\u001b[1;33m\u001b[0m\u001b[0m\n\u001b[0;32m      2\u001b[0m \u001b[1;33m\u001b[0m\u001b[0m\n\u001b[1;32m----> 3\u001b[1;33m \u001b[0mprint\u001b[0m\u001b[1;33m(\u001b[0m\u001b[1;34m'Grade 8 Normal '\u001b[0m \u001b[1;33m+\u001b[0m \u001b[0mstr\u001b[0m\u001b[1;33m(\u001b[0m\u001b[0mstats\u001b[0m\u001b[1;33m.\u001b[0m\u001b[0mttest_ind\u001b[0m\u001b[1;33m(\u001b[0m\u001b[0mNormal\u001b[0m\u001b[1;33m[\u001b[0m\u001b[1;34m'Weighted8'\u001b[0m\u001b[1;33m]\u001b[0m\u001b[1;33m,\u001b[0m \u001b[0mNational\u001b[0m\u001b[1;33m[\u001b[0m\u001b[1;34m'Grade 8'\u001b[0m\u001b[1;33m]\u001b[0m\u001b[1;33m)\u001b[0m\u001b[1;33m)\u001b[0m\u001b[1;33m)\u001b[0m\u001b[1;33m\u001b[0m\u001b[1;33m\u001b[0m\u001b[0m\n\u001b[0m\u001b[0;32m      4\u001b[0m \u001b[0mprint\u001b[0m\u001b[1;33m(\u001b[0m\u001b[1;34m'Grade 4 Normal '\u001b[0m \u001b[1;33m+\u001b[0m \u001b[0mstr\u001b[0m\u001b[1;33m(\u001b[0m\u001b[0mstats\u001b[0m\u001b[1;33m.\u001b[0m\u001b[0mttest_ind\u001b[0m\u001b[1;33m(\u001b[0m\u001b[0mNormal\u001b[0m\u001b[1;33m[\u001b[0m\u001b[1;34m'Weighted4'\u001b[0m\u001b[1;33m]\u001b[0m\u001b[1;33m,\u001b[0m \u001b[0mNational\u001b[0m\u001b[1;33m[\u001b[0m\u001b[1;34m'Grade 4'\u001b[0m\u001b[1;33m]\u001b[0m\u001b[1;33m)\u001b[0m\u001b[1;33m)\u001b[0m\u001b[1;33m)\u001b[0m\u001b[1;33m\u001b[0m\u001b[1;33m\u001b[0m\u001b[0m\n",
      "\u001b[1;31mNameError\u001b[0m: name 'Normal' is not defined"
     ]
    }
   ],
   "source": [
    "#Normal\n",
    "\n",
    "print('Grade 8 Normal ' + str(stats.ttest_ind(Normal['Weighted8'], National['Grade 8'])))\n",
    "print('Grade 4 Normal ' + str(stats.ttest_ind(Normal['Weighted4'], National['Grade 4'])))"
   ]
  },
  {
   "cell_type": "code",
   "execution_count": null,
   "metadata": {},
   "outputs": [],
   "source": [
    "print('Grade 8 Racial ' + str(stats.ttest_ind(Racial['Weighted8'], National['Grade 8'])))\n",
    "print('Grade 4 Racial ' + str(stats.ttest_ind(Racial['Weighted4'], National['Grade 4'])))"
   ]
  },
  {
   "cell_type": "code",
   "execution_count": null,
   "metadata": {},
   "outputs": [],
   "source": [
    "print('Grade 8 Hentai ' + str(stats.ttest_ind(Hentai['Weighted8'], National['Grade 8'])))\n",
    "print('Grade 4 Hentai ' + str(stats.ttest_ind(Hentai['Weighted4'], National['Grade 4'])))"
   ]
  },
  {
   "cell_type": "code",
   "execution_count": null,
   "metadata": {},
   "outputs": [],
   "source": [
    "print('Grade 8 Teen ' + str(stats.ttest_ind(Teen['Weighted8'], National['Grade 8'])))\n",
    "print('Grade 4 Teen ' + str(stats.ttest_ind(Teen['Weighted4'], National['Grade 4'])))"
   ]
  },
  {
   "cell_type": "code",
   "execution_count": null,
   "metadata": {},
   "outputs": [],
   "source": [
    "print('Grade 8 Milf ' + str(stats.ttest_ind(Milf['Weighted8'], National['Grade 8'])))\n",
    "print('Grade 4 Milf ' + str(stats.ttest_ind(Milf['Weighted4'], National['Grade 4'])))"
   ]
  },
  {
   "cell_type": "markdown",
   "metadata": {},
   "source": [
    "# Milf is BY FAR the closest P Value to being under 1, but they're all pretty trash##\n"
   ]
  },
  {
   "cell_type": "code",
   "execution_count": null,
   "metadata": {},
   "outputs": [],
   "source": [
    "\n",
    "g = sns.FacetGrid(Tested, col = 'Genre')\n",
    "g = g.map(plt.hist, 'Grade 8')"
   ]
  },
  {
   "cell_type": "code",
   "execution_count": null,
   "metadata": {},
   "outputs": [],
   "source": [
    "\n",
    "g = sns.FacetGrid(Tested, col = 'Genre')\n",
    "g = g.map(plt.hist, 'Grade 4')"
   ]
  },
  {
   "cell_type": "code",
   "execution_count": null,
   "metadata": {},
   "outputs": [],
   "source": [
    "#Let's see if there is any difference with the oneway test for the different porn genres\n",
    "stats.f_oneway(Milf['Weighted8'],Milf['Weighted4'],Teen['Weighted4'], Teen['Weighted8'], \n",
    "               Hentai['Weighted4'], Hentai['Weighted8'], Racial['Weighted4'], Racial['Weighted8'],\n",
    "              Normal['Weighted4'], Normal['Weighted8'])\n"
   ]
  },
  {
   "cell_type": "code",
   "execution_count": null,
   "metadata": {},
   "outputs": [],
   "source": [
    "plt.hist(National['Grade 8'])\n",
    "plt.show()\n",
    "plt.hist(National['Grade 4'])\n",
    "plt.show()"
   ]
  },
  {
   "cell_type": "code",
   "execution_count": null,
   "metadata": {},
   "outputs": [],
   "source": []
  }
 ],
 "metadata": {
  "kernelspec": {
   "display_name": "Python 3",
   "language": "python",
   "name": "python3"
  }
 },
 "nbformat": 4,
 "nbformat_minor": 2
}
